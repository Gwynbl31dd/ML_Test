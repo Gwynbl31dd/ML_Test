{
  "nbformat": 4,
  "nbformat_minor": 0,
  "metadata": {
    "colab": {
      "name": "Matplotlib Tutorial.ipynb",
      "provenance": [],
      "authorship_tag": "ABX9TyP0EF6WbdfzIb0fLgu3dam7",
      "include_colab_link": true
    },
    "kernelspec": {
      "name": "python3",
      "display_name": "Python 3"
    }
  },
  "cells": [
    {
      "cell_type": "markdown",
      "metadata": {
        "id": "view-in-github",
        "colab_type": "text"
      },
      "source": [
        "<a href=\"https://colab.research.google.com/github/Gwynbl31dd/ML_Test/blob/master/Matplotlib_Tutorial.ipynb\" target=\"_parent\"><img src=\"https://colab.research.google.com/assets/colab-badge.svg\" alt=\"Open In Colab\"/></a>"
      ]
    },
    {
      "cell_type": "markdown",
      "metadata": {
        "id": "nxGd6apPtrAR",
        "colab_type": "text"
      },
      "source": [
        "# Line chart"
      ]
    },
    {
      "cell_type": "code",
      "metadata": {
        "id": "dnSAfEYstmwV",
        "colab_type": "code",
        "colab": {}
      },
      "source": [
        "import numpy as np;\n",
        "import matplotlib.pyplot as plt;"
      ],
      "execution_count": 13,
      "outputs": []
    },
    {
      "cell_type": "code",
      "metadata": {
        "id": "rbJWp_Q_t0u5",
        "colab_type": "code",
        "colab": {}
      },
      "source": [
        "x = np.linspace(0,20,1000);"
      ],
      "execution_count": 14,
      "outputs": []
    },
    {
      "cell_type": "code",
      "metadata": {
        "id": "VTJ7F-tOt6Rc",
        "colab_type": "code",
        "colab": {}
      },
      "source": [
        "y = np.sin(x) + 0.2 * x;"
      ],
      "execution_count": 15,
      "outputs": []
    },
    {
      "cell_type": "code",
      "metadata": {
        "id": "I-YqXcKzt_Oq",
        "colab_type": "code",
        "colab": {
          "base_uri": "https://localhost:8080/",
          "height": 295
        },
        "outputId": "e0f3fb45-da2b-4158-f2ae-ebfb0543977f"
      },
      "source": [
        "plt.plot(x,y);\n",
        "plt.xlabel('input');\n",
        "plt.ylabel('output');\n",
        "plt.title('my plot');\n",
        "plt.show();"
      ],
      "execution_count": 16,
      "outputs": [
        {
          "output_type": "display_data",
          "data": {
            "image/png": "[encoded data removed]",
            "text/plain": [
              "<Figure size 432x288 with 1 Axes>"
            ]
          },
          "metadata": {
            "tags": [],
            "needs_background": "light"
          }
        }
      ]
    },
    {
      "cell_type": "code",
      "metadata": {
        "id": "668p4NP0uPHj",
        "colab_type": "code",
        "colab": {}
      },
      "source": [
        "\n"
      ],
      "execution_count": 8,
      "outputs": []
    }
  ]
}