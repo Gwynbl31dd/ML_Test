{
  "nbformat": 4,
  "nbformat_minor": 0,
  "metadata": {
    "colab": {
      "name": "Panda.ipynb",
      "provenance": [],
      "authorship_tag": "ABX9TyMYhpRPiZI8EvpzzP3DayEP",
      "include_colab_link": true
    },
    "kernelspec": {
      "name": "python3",
      "display_name": "Python 3"
    }
  },
  "cells": [
    {
      "cell_type": "markdown",
      "metadata": {
        "id": "view-in-github",
        "colab_type": "text"
      },
      "source": [
        "<a href=\"https://colab.research.google.com/github/Gwynbl31dd/ML_Test/blob/master/Panda.ipynb\" target=\"_parent\"><img src=\"https://colab.research.google.com/assets/colab-badge.svg\" alt=\"Open In Colab\"/></a>"
      ]
    },
    {
      "cell_type": "markdown",
      "metadata": {
        "id": "Vs4rKzKXx_O7",
        "colab_type": "text"
      },
      "source": [
        "# Loading in Data"
      ]
    },
    {
      "cell_type": "code",
      "metadata": {
        "id": "vJwMDH_Bx8ec",
        "colab_type": "code",
        "colab": {}
      },
      "source": [
        "import pandas as pd"
      ],
      "execution_count": 1,
      "outputs": []
    },
    {
      "cell_type": "code",
      "metadata": {
        "id": "-qlFxNPcyNv7",
        "colab_type": "code",
        "colab": {
          "base_uri": "https://localhost:8080/",
          "height": 239
        },
        "outputId": "d4b19970-d331-46f6-a1dc-8cf929751b69"
      },
      "source": [
        "!wget https://raw.githubusercontent.com/lazyprogrammer/machine_learning_examples/master/pytorch/aapl_msi_sbux.csv"
      ],
      "execution_count": 22,
      "outputs": [
        {
          "output_type": "stream",
          "text": [
            "--2020-08-09 09:11:50--  https://raw.githubusercontent.com/lazyprogrammer/machine_learning_examples/master/pytorch/aapl_msi_sbux.csv\n",
            "Resolving raw.githubusercontent.com (raw.githubusercontent.com)... 151.101.0.133, 151.101.64.133, 151.101.128.133, ...\n",
            "Connecting to raw.githubusercontent.com (raw.githubusercontent.com)|151.101.0.133|:443... connected.\n",
            "HTTP request sent, awaiting response... 200 OK\n",
            "Length: 24098 (24K) [text/plain]\n",
            "Saving to: ‘aapl_msi_sbux.csv.3’\n",
            "\n",
            "\raapl_msi_sbux.csv.3   0%[                    ]       0  --.-KB/s               \raapl_msi_sbux.csv.3 100%[===================>]  23.53K  --.-KB/s    in 0.004s  \n",
            "\n",
            "2020-08-09 09:11:50 (6.34 MB/s) - ‘aapl_msi_sbux.csv.3’ saved [24098/24098]\n",
            "\n"
          ],
          "name": "stdout"
        }
      ]
    },
    {
      "cell_type": "code",
      "metadata": {
        "id": "xmmGt9IOyfX3",
        "colab_type": "code",
        "colab": {}
      },
      "source": [
        "df = pd.read_csv('aapl_msi_sbux.csv',error_bad_lines=False);"
      ],
      "execution_count": 4,
      "outputs": []
    },
    {
      "cell_type": "code",
      "metadata": {
        "id": "PdGWiflgy55O",
        "colab_type": "code",
        "colab": {}
      },
      "source": [
        "df = pd.read_csv('https://github.com/sammanthp007/Stock-Price-Prediction-Using-KNN-Algorithm/blob/master/sbux.csv',error_bad_lines=False);"
      ],
      "execution_count": null,
      "outputs": []
    },
    {
      "cell_type": "code",
      "metadata": {
        "id": "oqumXNDPz3b1",
        "colab_type": "code",
        "colab": {}
      },
      "source": [
        "type(df)"
      ],
      "execution_count": null,
      "outputs": []
    },
    {
      "cell_type": "code",
      "metadata": {
        "id": "krsRv6H9z8ZE",
        "colab_type": "code",
        "colab": {}
      },
      "source": [
        "!head aapl_msi_sbux.csv.1"
      ],
      "execution_count": null,
      "outputs": []
    },
    {
      "cell_type": "code",
      "metadata": {
        "id": "moObYOH90vN-",
        "colab_type": "code",
        "colab": {
          "base_uri": "https://localhost:8080/",
          "height": 201
        },
        "outputId": "d2b3fdd3-89ed-43dc-9320-62cba8b32aa4"
      },
      "source": [
        "df.info()"
      ],
      "execution_count": 8,
      "outputs": [
        {
          "output_type": "stream",
          "text": [
            "<class 'pandas.core.frame.DataFrame'>\n",
            "RangeIndex: 1259 entries, 0 to 1258\n",
            "Data columns (total 3 columns):\n",
            " #   Column  Non-Null Count  Dtype  \n",
            "---  ------  --------------  -----  \n",
            " 0   AAPL    1259 non-null   float64\n",
            " 1   MSI     1259 non-null   float64\n",
            " 2   SBUX    1259 non-null   float64\n",
            "dtypes: float64(3)\n",
            "memory usage: 29.6 KB\n"
          ],
          "name": "stdout"
        }
      ]
    },
    {
      "cell_type": "markdown",
      "metadata": {
        "id": "4opFo4K80_Jx",
        "colab_type": "text"
      },
      "source": [
        "# Select Columns and Rows"
      ]
    },
    {
      "cell_type": "code",
      "metadata": {
        "id": "M-zhRXdn0-qR",
        "colab_type": "code",
        "colab": {
          "base_uri": "https://localhost:8080/",
          "height": 35
        },
        "outputId": "e868682b-8600-47f2-e30a-6cf00d9edbf4"
      },
      "source": [
        "df.columns"
      ],
      "execution_count": 14,
      "outputs": [
        {
          "output_type": "execute_result",
          "data": {
            "text/plain": [
              "Index(['AAPL', 'MSI', 'SBUX'], dtype='object')"
            ]
          },
          "metadata": {
            "tags": []
          },
          "execution_count": 14
        }
      ]
    },
    {
      "cell_type": "code",
      "metadata": {
        "id": "VXrzxeYW3IM3",
        "colab_type": "code",
        "colab": {
          "base_uri": "https://localhost:8080/",
          "height": 206
        },
        "outputId": "1ef1f42f-4705-4a65-9d54-9823128ca851"
      },
      "source": [
        "df.head()"
      ],
      "execution_count": 13,
      "outputs": [
        {
          "output_type": "execute_result",
          "data": {
            "text/html": [
              "<div>\n",
              "<style scoped>\n",
              "    .dataframe tbody tr th:only-of-type {\n",
              "        vertical-align: middle;\n",
              "    }\n",
              "\n",
              "    .dataframe tbody tr th {\n",
              "        vertical-align: top;\n",
              "    }\n",
              "\n",
              "    .dataframe thead th {\n",
              "        text-align: right;\n",
              "    }\n",
              "</style>\n",
              "<table border=\"1\" class=\"dataframe\">\n",
              "  <thead>\n",
              "    <tr style=\"text-align: right;\">\n",
              "      <th></th>\n",
              "      <th>AAPL</th>\n",
              "      <th>MSI</th>\n",
              "      <th>SBUX</th>\n",
              "    </tr>\n",
              "  </thead>\n",
              "  <tbody>\n",
              "    <tr>\n",
              "      <th>0</th>\n",
              "      <td>67.8542</td>\n",
              "      <td>60.30</td>\n",
              "      <td>28.185</td>\n",
              "    </tr>\n",
              "    <tr>\n",
              "      <th>1</th>\n",
              "      <td>68.5614</td>\n",
              "      <td>60.90</td>\n",
              "      <td>28.070</td>\n",
              "    </tr>\n",
              "    <tr>\n",
              "      <th>2</th>\n",
              "      <td>66.8428</td>\n",
              "      <td>60.83</td>\n",
              "      <td>28.130</td>\n",
              "    </tr>\n",
              "    <tr>\n",
              "      <th>3</th>\n",
              "      <td>66.7156</td>\n",
              "      <td>60.81</td>\n",
              "      <td>27.915</td>\n",
              "    </tr>\n",
              "    <tr>\n",
              "      <th>4</th>\n",
              "      <td>66.6556</td>\n",
              "      <td>61.12</td>\n",
              "      <td>27.775</td>\n",
              "    </tr>\n",
              "  </tbody>\n",
              "</table>\n",
              "</div>"
            ],
            "text/plain": [
              "      AAPL    MSI    SBUX\n",
              "0  67.8542  60.30  28.185\n",
              "1  68.5614  60.90  28.070\n",
              "2  66.8428  60.83  28.130\n",
              "3  66.7156  60.81  27.915\n",
              "4  66.6556  61.12  27.775"
            ]
          },
          "metadata": {
            "tags": []
          },
          "execution_count": 13
        }
      ]
    },
    {
      "cell_type": "code",
      "metadata": {
        "id": "T1VYM6bY3N7W",
        "colab_type": "code",
        "colab": {
          "base_uri": "https://localhost:8080/",
          "height": 237
        },
        "outputId": "05152d03-e78e-4598-b589-c2cd877660fe"
      },
      "source": [
        "df['AAPL']"
      ],
      "execution_count": 15,
      "outputs": [
        {
          "output_type": "execute_result",
          "data": {
            "text/plain": [
              "0        67.8542\n",
              "1        68.5614\n",
              "2        66.8428\n",
              "3        66.7156\n",
              "4        66.6556\n",
              "          ...   \n",
              "1254    167.7800\n",
              "1255    160.5000\n",
              "1256    156.4900\n",
              "1257    163.0300\n",
              "1258    159.5400\n",
              "Name: AAPL, Length: 1259, dtype: float64"
            ]
          },
          "metadata": {
            "tags": []
          },
          "execution_count": 15
        }
      ]
    },
    {
      "cell_type": "code",
      "metadata": {
        "id": "UeRHe369eYrx",
        "colab_type": "code",
        "colab": {
          "base_uri": "https://localhost:8080/",
          "height": 35
        },
        "outputId": "994a55e9-09df-42ba-bba0-ce0f879cfa59"
      },
      "source": [
        "type(df['AAPL'])"
      ],
      "execution_count": 16,
      "outputs": [
        {
          "output_type": "execute_result",
          "data": {
            "text/plain": [
              "pandas.core.series.Series"
            ]
          },
          "metadata": {
            "tags": []
          },
          "execution_count": 16
        }
      ]
    },
    {
      "cell_type": "code",
      "metadata": {
        "id": "HMe8ArzJedR5",
        "colab_type": "code",
        "colab": {
          "base_uri": "https://localhost:8080/",
          "height": 35
        },
        "outputId": "19aa7b79-de1e-45b6-cd8a-a57ba5c30f31"
      },
      "source": [
        "type(df[['AAPL','MSI']])"
      ],
      "execution_count": 18,
      "outputs": [
        {
          "output_type": "execute_result",
          "data": {
            "text/plain": [
              "pandas.core.frame.DataFrame"
            ]
          },
          "metadata": {
            "tags": []
          },
          "execution_count": 18
        }
      ]
    },
    {
      "cell_type": "code",
      "metadata": {
        "id": "78iQIsVres3-",
        "colab_type": "code",
        "colab": {
          "base_uri": "https://localhost:8080/",
          "height": 90
        },
        "outputId": "3a013e4d-5213-4128-a3d6-050998feb493"
      },
      "source": [
        "df.iloc[0]"
      ],
      "execution_count": 19,
      "outputs": [
        {
          "output_type": "execute_result",
          "data": {
            "text/plain": [
              "AAPL    67.8542\n",
              "MSI     60.3000\n",
              "SBUX    28.1850\n",
              "Name: 0, dtype: float64"
            ]
          },
          "metadata": {
            "tags": []
          },
          "execution_count": 19
        }
      ]
    },
    {
      "cell_type": "code",
      "metadata": {
        "id": "NazDaPZ1ex8t",
        "colab_type": "code",
        "colab": {
          "base_uri": "https://localhost:8080/",
          "height": 90
        },
        "outputId": "76db5cf9-ef71-4c7a-aee7-34b0b1887eea"
      },
      "source": [
        "df.loc[0]"
      ],
      "execution_count": 20,
      "outputs": [
        {
          "output_type": "execute_result",
          "data": {
            "text/plain": [
              "AAPL    67.8542\n",
              "MSI     60.3000\n",
              "SBUX    28.1850\n",
              "Name: 0, dtype: float64"
            ]
          },
          "metadata": {
            "tags": []
          },
          "execution_count": 20
        }
      ]
    },
    {
      "cell_type": "code",
      "metadata": {
        "id": "R3niZhatfJUB",
        "colab_type": "code",
        "colab": {}
      },
      "source": [
        "df2 = pd.read_csv('aapl_msi_sbux.csv',index_col='AAPL')"
      ],
      "execution_count": 25,
      "outputs": []
    },
    {
      "cell_type": "code",
      "metadata": {
        "id": "8FFaj0PdfjYZ",
        "colab_type": "code",
        "colab": {
          "base_uri": "https://localhost:8080/",
          "height": 238
        },
        "outputId": "bdd37fb7-b96c-4911-be18-71a9d28b1917"
      },
      "source": [
        "df2.head()"
      ],
      "execution_count": 28,
      "outputs": [
        {
          "output_type": "execute_result",
          "data": {
            "text/html": [
              "<div>\n",
              "<style scoped>\n",
              "    .dataframe tbody tr th:only-of-type {\n",
              "        vertical-align: middle;\n",
              "    }\n",
              "\n",
              "    .dataframe tbody tr th {\n",
              "        vertical-align: top;\n",
              "    }\n",
              "\n",
              "    .dataframe thead th {\n",
              "        text-align: right;\n",
              "    }\n",
              "</style>\n",
              "<table border=\"1\" class=\"dataframe\">\n",
              "  <thead>\n",
              "    <tr style=\"text-align: right;\">\n",
              "      <th></th>\n",
              "      <th>MSI</th>\n",
              "      <th>SBUX</th>\n",
              "    </tr>\n",
              "    <tr>\n",
              "      <th>AAPL</th>\n",
              "      <th></th>\n",
              "      <th></th>\n",
              "    </tr>\n",
              "  </thead>\n",
              "  <tbody>\n",
              "    <tr>\n",
              "      <th>67.8542</th>\n",
              "      <td>60.30</td>\n",
              "      <td>28.185</td>\n",
              "    </tr>\n",
              "    <tr>\n",
              "      <th>68.5614</th>\n",
              "      <td>60.90</td>\n",
              "      <td>28.070</td>\n",
              "    </tr>\n",
              "    <tr>\n",
              "      <th>66.8428</th>\n",
              "      <td>60.83</td>\n",
              "      <td>28.130</td>\n",
              "    </tr>\n",
              "    <tr>\n",
              "      <th>66.7156</th>\n",
              "      <td>60.81</td>\n",
              "      <td>27.915</td>\n",
              "    </tr>\n",
              "    <tr>\n",
              "      <th>66.6556</th>\n",
              "      <td>61.12</td>\n",
              "      <td>27.775</td>\n",
              "    </tr>\n",
              "  </tbody>\n",
              "</table>\n",
              "</div>"
            ],
            "text/plain": [
              "           MSI    SBUX\n",
              "AAPL                  \n",
              "67.8542  60.30  28.185\n",
              "68.5614  60.90  28.070\n",
              "66.8428  60.83  28.130\n",
              "66.7156  60.81  27.915\n",
              "66.6556  61.12  27.775"
            ]
          },
          "metadata": {
            "tags": []
          },
          "execution_count": 28
        }
      ]
    },
    {
      "cell_type": "code",
      "metadata": {
        "id": "TKRkSEj7fsiX",
        "colab_type": "code",
        "colab": {
          "base_uri": "https://localhost:8080/",
          "height": 72
        },
        "outputId": "cd58180e-1dc9-473e-ea40-6c6ca8b2de1f"
      },
      "source": [
        "df2.loc[67.8542]"
      ],
      "execution_count": 31,
      "outputs": [
        {
          "output_type": "execute_result",
          "data": {
            "text/plain": [
              "MSI     60.300\n",
              "SBUX    28.185\n",
              "Name: 67.8542, dtype: float64"
            ]
          },
          "metadata": {
            "tags": []
          },
          "execution_count": 31
        }
      ]
    },
    {
      "cell_type": "code",
      "metadata": {
        "id": "rPM8iLx6gCBg",
        "colab_type": "code",
        "colab": {
          "base_uri": "https://localhost:8080/",
          "height": 424
        },
        "outputId": "f45cf897-cb30-43c6-c08b-39d04cffa544"
      },
      "source": [
        "df[df['AAPL'] > 67]"
      ],
      "execution_count": 32,
      "outputs": [
        {
          "output_type": "execute_result",
          "data": {
            "text/html": [
              "<div>\n",
              "<style scoped>\n",
              "    .dataframe tbody tr th:only-of-type {\n",
              "        vertical-align: middle;\n",
              "    }\n",
              "\n",
              "    .dataframe tbody tr th {\n",
              "        vertical-align: top;\n",
              "    }\n",
              "\n",
              "    .dataframe thead th {\n",
              "        text-align: right;\n",
              "    }\n",
              "</style>\n",
              "<table border=\"1\" class=\"dataframe\">\n",
              "  <thead>\n",
              "    <tr style=\"text-align: right;\">\n",
              "      <th></th>\n",
              "      <th>AAPL</th>\n",
              "      <th>MSI</th>\n",
              "      <th>SBUX</th>\n",
              "    </tr>\n",
              "  </thead>\n",
              "  <tbody>\n",
              "    <tr>\n",
              "      <th>0</th>\n",
              "      <td>67.8542</td>\n",
              "      <td>60.30</td>\n",
              "      <td>28.185</td>\n",
              "    </tr>\n",
              "    <tr>\n",
              "      <th>1</th>\n",
              "      <td>68.5614</td>\n",
              "      <td>60.90</td>\n",
              "      <td>28.070</td>\n",
              "    </tr>\n",
              "    <tr>\n",
              "      <th>122</th>\n",
              "      <td>67.0642</td>\n",
              "      <td>56.10</td>\n",
              "      <td>36.985</td>\n",
              "    </tr>\n",
              "    <tr>\n",
              "      <th>128</th>\n",
              "      <td>69.9385</td>\n",
              "      <td>57.84</td>\n",
              "      <td>36.320</td>\n",
              "    </tr>\n",
              "    <tr>\n",
              "      <th>129</th>\n",
              "      <td>71.2142</td>\n",
              "      <td>57.71</td>\n",
              "      <td>35.925</td>\n",
              "    </tr>\n",
              "    <tr>\n",
              "      <th>...</th>\n",
              "      <td>...</td>\n",
              "      <td>...</td>\n",
              "      <td>...</td>\n",
              "    </tr>\n",
              "    <tr>\n",
              "      <th>1254</th>\n",
              "      <td>167.7800</td>\n",
              "      <td>99.12</td>\n",
              "      <td>56.000</td>\n",
              "    </tr>\n",
              "    <tr>\n",
              "      <th>1255</th>\n",
              "      <td>160.5000</td>\n",
              "      <td>103.87</td>\n",
              "      <td>55.770</td>\n",
              "    </tr>\n",
              "    <tr>\n",
              "      <th>1256</th>\n",
              "      <td>156.4900</td>\n",
              "      <td>101.06</td>\n",
              "      <td>54.690</td>\n",
              "    </tr>\n",
              "    <tr>\n",
              "      <th>1257</th>\n",
              "      <td>163.0300</td>\n",
              "      <td>102.76</td>\n",
              "      <td>55.610</td>\n",
              "    </tr>\n",
              "    <tr>\n",
              "      <th>1258</th>\n",
              "      <td>159.5400</td>\n",
              "      <td>102.63</td>\n",
              "      <td>54.460</td>\n",
              "    </tr>\n",
              "  </tbody>\n",
              "</table>\n",
              "<p>1128 rows × 3 columns</p>\n",
              "</div>"
            ],
            "text/plain": [
              "          AAPL     MSI    SBUX\n",
              "0      67.8542   60.30  28.185\n",
              "1      68.5614   60.90  28.070\n",
              "122    67.0642   56.10  36.985\n",
              "128    69.9385   57.84  36.320\n",
              "129    71.2142   57.71  35.925\n",
              "...        ...     ...     ...\n",
              "1254  167.7800   99.12  56.000\n",
              "1255  160.5000  103.87  55.770\n",
              "1256  156.4900  101.06  54.690\n",
              "1257  163.0300  102.76  55.610\n",
              "1258  159.5400  102.63  54.460\n",
              "\n",
              "[1128 rows x 3 columns]"
            ]
          },
          "metadata": {
            "tags": []
          },
          "execution_count": 32
        }
      ]
    },
    {
      "cell_type": "code",
      "metadata": {
        "id": "8JRh4_o-gJvw",
        "colab_type": "code",
        "colab": {
          "base_uri": "https://localhost:8080/",
          "height": 424
        },
        "outputId": "b63de2d0-63b0-4a85-bb94-f20a5b48ef4d"
      },
      "source": [
        "df[df['AAPL'] != 67.8542]"
      ],
      "execution_count": 33,
      "outputs": [
        {
          "output_type": "execute_result",
          "data": {
            "text/html": [
              "<div>\n",
              "<style scoped>\n",
              "    .dataframe tbody tr th:only-of-type {\n",
              "        vertical-align: middle;\n",
              "    }\n",
              "\n",
              "    .dataframe tbody tr th {\n",
              "        vertical-align: top;\n",
              "    }\n",
              "\n",
              "    .dataframe thead th {\n",
              "        text-align: right;\n",
              "    }\n",
              "</style>\n",
              "<table border=\"1\" class=\"dataframe\">\n",
              "  <thead>\n",
              "    <tr style=\"text-align: right;\">\n",
              "      <th></th>\n",
              "      <th>AAPL</th>\n",
              "      <th>MSI</th>\n",
              "      <th>SBUX</th>\n",
              "    </tr>\n",
              "  </thead>\n",
              "  <tbody>\n",
              "    <tr>\n",
              "      <th>1</th>\n",
              "      <td>68.5614</td>\n",
              "      <td>60.90</td>\n",
              "      <td>28.070</td>\n",
              "    </tr>\n",
              "    <tr>\n",
              "      <th>2</th>\n",
              "      <td>66.8428</td>\n",
              "      <td>60.83</td>\n",
              "      <td>28.130</td>\n",
              "    </tr>\n",
              "    <tr>\n",
              "      <th>3</th>\n",
              "      <td>66.7156</td>\n",
              "      <td>60.81</td>\n",
              "      <td>27.915</td>\n",
              "    </tr>\n",
              "    <tr>\n",
              "      <th>4</th>\n",
              "      <td>66.6556</td>\n",
              "      <td>61.12</td>\n",
              "      <td>27.775</td>\n",
              "    </tr>\n",
              "    <tr>\n",
              "      <th>5</th>\n",
              "      <td>65.7371</td>\n",
              "      <td>61.43</td>\n",
              "      <td>27.170</td>\n",
              "    </tr>\n",
              "    <tr>\n",
              "      <th>...</th>\n",
              "      <td>...</td>\n",
              "      <td>...</td>\n",
              "      <td>...</td>\n",
              "    </tr>\n",
              "    <tr>\n",
              "      <th>1254</th>\n",
              "      <td>167.7800</td>\n",
              "      <td>99.12</td>\n",
              "      <td>56.000</td>\n",
              "    </tr>\n",
              "    <tr>\n",
              "      <th>1255</th>\n",
              "      <td>160.5000</td>\n",
              "      <td>103.87</td>\n",
              "      <td>55.770</td>\n",
              "    </tr>\n",
              "    <tr>\n",
              "      <th>1256</th>\n",
              "      <td>156.4900</td>\n",
              "      <td>101.06</td>\n",
              "      <td>54.690</td>\n",
              "    </tr>\n",
              "    <tr>\n",
              "      <th>1257</th>\n",
              "      <td>163.0300</td>\n",
              "      <td>102.76</td>\n",
              "      <td>55.610</td>\n",
              "    </tr>\n",
              "    <tr>\n",
              "      <th>1258</th>\n",
              "      <td>159.5400</td>\n",
              "      <td>102.63</td>\n",
              "      <td>54.460</td>\n",
              "    </tr>\n",
              "  </tbody>\n",
              "</table>\n",
              "<p>1258 rows × 3 columns</p>\n",
              "</div>"
            ],
            "text/plain": [
              "          AAPL     MSI    SBUX\n",
              "1      68.5614   60.90  28.070\n",
              "2      66.8428   60.83  28.130\n",
              "3      66.7156   60.81  27.915\n",
              "4      66.6556   61.12  27.775\n",
              "5      65.7371   61.43  27.170\n",
              "...        ...     ...     ...\n",
              "1254  167.7800   99.12  56.000\n",
              "1255  160.5000  103.87  55.770\n",
              "1256  156.4900  101.06  54.690\n",
              "1257  163.0300  102.76  55.610\n",
              "1258  159.5400  102.63  54.460\n",
              "\n",
              "[1258 rows x 3 columns]"
            ]
          },
          "metadata": {
            "tags": []
          },
          "execution_count": 33
        }
      ]
    },
    {
      "cell_type": "code",
      "metadata": {
        "id": "venL-MYPgYDK",
        "colab_type": "code",
        "colab": {
          "base_uri": "https://localhost:8080/",
          "height": 35
        },
        "outputId": "d7b752ec-443c-43ec-ce01-d94df13fd0d9"
      },
      "source": [
        "import numpy as np\n",
        "A = np.arange(10)\n",
        "A"
      ],
      "execution_count": 34,
      "outputs": [
        {
          "output_type": "execute_result",
          "data": {
            "text/plain": [
              "array([0, 1, 2, 3, 4, 5, 6, 7, 8, 9])"
            ]
          },
          "metadata": {
            "tags": []
          },
          "execution_count": 34
        }
      ]
    },
    {
      "cell_type": "code",
      "metadata": {
        "id": "BIqWmdVcggGS",
        "colab_type": "code",
        "colab": {
          "base_uri": "https://localhost:8080/",
          "height": 35
        },
        "outputId": "54dee7d2-10a8-4664-da8f-dde7fb3881dd"
      },
      "source": [
        "A[A % 2 == 0]"
      ],
      "execution_count": 35,
      "outputs": [
        {
          "output_type": "execute_result",
          "data": {
            "text/plain": [
              "array([0, 2, 4, 6, 8])"
            ]
          },
          "metadata": {
            "tags": []
          },
          "execution_count": 35
        }
      ]
    },
    {
      "cell_type": "code",
      "metadata": {
        "id": "6ZlqtUXtgo4M",
        "colab_type": "code",
        "colab": {
          "base_uri": "https://localhost:8080/",
          "height": 146
        },
        "outputId": "49e26036-dff3-4fe7-e7d4-df69fcbf0252"
      },
      "source": [
        "df.values"
      ],
      "execution_count": 36,
      "outputs": [
        {
          "output_type": "execute_result",
          "data": {
            "text/plain": [
              "array([[ 67.8542,  60.3   ,  28.185 ],\n",
              "       [ 68.5614,  60.9   ,  28.07  ],\n",
              "       [ 66.8428,  60.83  ,  28.13  ],\n",
              "       ...,\n",
              "       [156.49  , 101.06  ,  54.69  ],\n",
              "       [163.03  , 102.76  ,  55.61  ],\n",
              "       [159.54  , 102.63  ,  54.46  ]])"
            ]
          },
          "metadata": {
            "tags": []
          },
          "execution_count": 36
        }
      ]
    },
    {
      "cell_type": "code",
      "metadata": {
        "id": "H5eOinxigtcG",
        "colab_type": "code",
        "colab": {
          "base_uri": "https://localhost:8080/",
          "height": 35
        },
        "outputId": "b52a4b86-b2ec-4a52-c188-219b7dc780af"
      },
      "source": [
        "type(df.values)"
      ],
      "execution_count": 37,
      "outputs": [
        {
          "output_type": "execute_result",
          "data": {
            "text/plain": [
              "numpy.ndarray"
            ]
          },
          "metadata": {
            "tags": []
          },
          "execution_count": 37
        }
      ]
    },
    {
      "cell_type": "code",
      "metadata": {
        "id": "EJ8gfAR-g7LS",
        "colab_type": "code",
        "colab": {}
      },
      "source": [
        "A = df.values\n",
        "df.to_csv('output.csv')"
      ],
      "execution_count": 40,
      "outputs": []
    },
    {
      "cell_type": "code",
      "metadata": {
        "id": "bNGOSUczhR4i",
        "colab_type": "code",
        "colab": {
          "base_uri": "https://localhost:8080/",
          "height": 201
        },
        "outputId": "5322f5d0-2336-418a-a16e-4ceaa2ce51d0"
      },
      "source": [
        "!head output.csv"
      ],
      "execution_count": 41,
      "outputs": [
        {
          "output_type": "stream",
          "text": [
            ",AAPL,MSI,SBUX\n",
            "0,67.8542,60.3,28.185\n",
            "1,68.5614,60.9,28.07\n",
            "2,66.8428,60.83,28.13\n",
            "3,66.7156,60.81,27.915\n",
            "4,66.6556,61.12,27.775\n",
            "5,65.7371,61.43,27.17\n",
            "6,65.7128,62.03,27.225\n",
            "7,64.1214,61.26,26.655\n",
            "8,63.7228,60.88,26.675\n"
          ],
          "name": "stdout"
        }
      ]
    },
    {
      "cell_type": "code",
      "metadata": {
        "id": "EX8JI7n_hZga",
        "colab_type": "code",
        "colab": {}
      },
      "source": [
        "df.to_csv('output2.csv',index=False)"
      ],
      "execution_count": 46,
      "outputs": []
    },
    {
      "cell_type": "code",
      "metadata": {
        "id": "rZKYySvEhdBT",
        "colab_type": "code",
        "colab": {
          "base_uri": "https://localhost:8080/",
          "height": 201
        },
        "outputId": "4d88daa4-93e7-45fe-aead-f702033f5363"
      },
      "source": [
        "!head output2.csv"
      ],
      "execution_count": 47,
      "outputs": [
        {
          "output_type": "stream",
          "text": [
            "AAPL,MSI,SBUX\n",
            "67.8542,60.3,28.185\n",
            "68.5614,60.9,28.07\n",
            "66.8428,60.83,28.13\n",
            "66.7156,60.81,27.915\n",
            "66.6556,61.12,27.775\n",
            "65.7371,61.43,27.17\n",
            "65.7128,62.03,27.225\n",
            "64.1214,61.26,26.655\n",
            "63.7228,60.88,26.675\n"
          ],
          "name": "stdout"
        }
      ]
    },
    {
      "cell_type": "markdown",
      "metadata": {
        "id": "PXXkXqDUhrKO",
        "colab_type": "text"
      },
      "source": [
        "# The apply() Function"
      ]
    },
    {
      "cell_type": "code",
      "metadata": {
        "id": "bOBlMMlthwGk",
        "colab_type": "code",
        "colab": {
          "base_uri": "https://localhost:8080/",
          "height": 237
        },
        "outputId": "8b659e56-0c3f-4da4-bfd3-fd6ddb6f7135"
      },
      "source": [
        "def date_to_year(row):\n",
        "  return int(row['AAPL'] + 1)\n",
        "\n",
        "df.apply(date_to_year,axis = 1)"
      ],
      "execution_count": 49,
      "outputs": [
        {
          "output_type": "execute_result",
          "data": {
            "text/plain": [
              "0        68\n",
              "1        69\n",
              "2        67\n",
              "3        67\n",
              "4        67\n",
              "       ... \n",
              "1254    168\n",
              "1255    161\n",
              "1256    157\n",
              "1257    164\n",
              "1258    160\n",
              "Length: 1259, dtype: int64"
            ]
          },
          "metadata": {
            "tags": []
          },
          "execution_count": 49
        }
      ]
    },
    {
      "cell_type": "markdown",
      "metadata": {
        "id": "UsEuKPpxi1SN",
        "colab_type": "text"
      },
      "source": [
        "# Plotting with Panda"
      ]
    },
    {
      "cell_type": "code",
      "metadata": {
        "id": "QDy7i3Kyi5vU",
        "colab_type": "code",
        "colab": {
          "base_uri": "https://localhost:8080/",
          "height": 265
        },
        "outputId": "d44059b2-e2a2-41a1-97a4-19e720ea6bfd"
      },
      "source": [
        "df['AAPL'].hist();"
      ],
      "execution_count": 51,
      "outputs": [
        {
          "output_type": "display_data",
          "data": {
            "image/png": "[encoded data removed]",
            "text/plain": [
              "<Figure size 432x288 with 1 Axes>"
            ]
          },
          "metadata": {
            "tags": [],
            "needs_background": "light"
          }
        }
      ]
    },
    {
      "cell_type": "code",
      "metadata": {
        "id": "l1otH32KjA5u",
        "colab_type": "code",
        "colab": {
          "base_uri": "https://localhost:8080/",
          "height": 265
        },
        "outputId": "ba2e0aab-5230-4652-c717-7d709b5b885d"
      },
      "source": [
        "df['AAPL'].plot();"
      ],
      "execution_count": 53,
      "outputs": [
        {
          "output_type": "display_data",
          "data": {
            "image/png": "[encoded data removed]",
            "text/plain": [
              "<Figure size 432x288 with 1 Axes>"
            ]
          },
          "metadata": {
            "tags": [],
            "needs_background": "light"
          }
        }
      ]
    },
    {
      "cell_type": "code",
      "metadata": {
        "id": "W2vRX8f4jHXH",
        "colab_type": "code",
        "colab": {
          "base_uri": "https://localhost:8080/",
          "height": 265
        },
        "outputId": "ae8092c5-aa4c-47aa-e529-665253922445"
      },
      "source": [
        "df[['AAPL','MSI','SBUX']].plot.box();"
      ],
      "execution_count": 54,
      "outputs": [
        {
          "output_type": "display_data",
          "data": {
            "image/png": "[encoded data removed]",
            "text/plain": [
              "<Figure size 432x288 with 1 Axes>"
            ]
          },
          "metadata": {
            "tags": [],
            "needs_background": "light"
          }
        }
      ]
    },
    {
      "cell_type": "code",
      "metadata": {
        "id": "G-YV7fUYjXWv",
        "colab_type": "code",
        "colab": {
          "base_uri": "https://localhost:8080/",
          "height": 284
        },
        "outputId": "a7a455e6-245c-4578-a072-8a0f2a1f17f0"
      },
      "source": [
        "from pandas.plotting import scatter_matrix\n",
        "scatter_matrix(df[['AAPL','MSI','SBUX']],alpha=0.2);"
      ],
      "execution_count": 57,
      "outputs": [
        {
          "output_type": "display_data",
          "data": {
            "image/png": "[encoded data removed]",
            "text/plain": [
              "<Figure size 432x288 with 9 Axes>"
            ]
          },
          "metadata": {
            "tags": [],
            "needs_background": "light"
          }
        }
      ]
    }
  ]
}